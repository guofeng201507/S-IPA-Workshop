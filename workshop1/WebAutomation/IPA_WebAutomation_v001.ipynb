{
 "cells": [
  {
   "cell_type": "markdown",
   "metadata": {},
   "source": [
    "<div class=\"alert alert-block alert-info\" style=\"margin-top: 20px\">\n",
    "    <a href=\"https://github.com/isa-ipa\">\n",
    "        <img src=\"\" width=\"60\" align=\"right\">\n",
    "     </a>\n",
    "     <h1>\n",
    "         Process Automation Workshop: Web Automation\n",
    "     </h1>\n",
    "</div>"
   ]
  },
  {
   "cell_type": "markdown",
   "metadata": {},
   "source": [
    "## Agenda:\n",
    "    \n",
    "- Hand on open source virtual process automation Tool: TagUI\n",
    "- Xpath Toturial\n",
    "- Exercise 1: Collect 10 ISS Lectures' digital profile on ISS Website\n",
    "- Exercise 2: Login your own email with TagUI\n",
    "- CSS Seletor Toturial and Exercise\n",
    "- Exercise 3: Use the Bing Image Search to search TOP 3 similar images with provided image file"
   ]
  },
  {
   "cell_type": "markdown",
   "metadata": {},
   "source": [
    "<div class=\"alert alert-info alertdanger\" style=\"margin-top: 20px\">\n",
    "    <h1>\n",
    "         Prepare Environment\n",
    "    </h1>\n",
    "</div>"
   ]
  },
  {
   "cell_type": "markdown",
   "metadata": {},
   "source": [
    "## 1.  Prepare system level environment\n",
    "\n",
    "1. If you are using the ISS-VM and you also open this notebook with iss-python-env3\n",
    "    The environment is already prepared. Please go through the notebook to learn how to use tagui and do some demo application.\n",
    "2. If you don't use ISS-VM right now. Please contact Sam Gu(issgz@nus.edu.sg) to get the ISS-VM which is a virtual mahcine based on VirtualBox with all the environment you need for this workshop\n",
    "3. Install the Chrome"
   ]
  },
  {
   "cell_type": "markdown",
   "metadata": {},
   "source": [
    "## 2. Prepare notebook environment"
   ]
  },
  {
   "cell_type": "markdown",
   "metadata": {},
   "source": [
    "For this workshop, we will introduce the TagUI(https://github.com/kelaberetiv/TagUI) as the RPA tools(robotic process automation) and use TagUI-Python(https://github.com/tebelorg/RPA-Python) to do some application to help you understand the how the RPA work and how to use it in the real world task\n",
    "\n",
    "*tip: the TagUI-Python now also is called RPA-python the Rename Detail is here https://github.com/tebelorg/RPA-Python/issues/100"
   ]
  },
  {
   "cell_type": "markdown",
   "metadata": {},
   "source": [
    "TagUI:\n",
    "    - TagUI is a command-line tool for digital process automation (RPA)\n",
    "    - automate Chrome in visible / invisible mode\n",
    "    - visual automation of websites and desktop\n",
    "    - write in 20+ human languages & JavaScript\n",
    "    - Chrome extension for recording web actions\n",
    "    - Python & R integrations for machine learning"
   ]
  },
  {
   "cell_type": "code",
   "execution_count": 1,
   "metadata": {},
   "outputs": [],
   "source": [
    "from IPython.display import display, Markdown, Latex\n",
    "import codehelper"
   ]
  },
  {
   "cell_type": "markdown",
   "metadata": {},
   "source": [
    "# Optional\n",
    "change the sourcecode of tagui command-line to launch the chrome in the incognito mode to prevent some login issue"
   ]
  },
  {
   "cell_type": "code",
   "execution_count": 2,
   "metadata": {},
   "outputs": [],
   "source": [
    "# set \"incognito mode\"\n",
    "!sed -i 's/chrome_started=\"$(uname -s)\"; chrome_switches=\"--user-data-dir=chrome\\/tagui_user_profile --remote-debugging-port=9222 about:blank\"/chrome_started=\"$(uname -s)\"; chrome_switches=\"--user-data-dir=chrome\\/tagui_user_profile --remote-debugging-port=9222 -incognito about:blank\"/g' ~/.tagui/src/tagui\n",
    "\n",
    "# set \"normal mode\"\n",
    "# !sed -i 's/chrome_started=\"$(uname -s)\"; chrome_switches=\"--user-data-dir=chrome\\/tagui_user_profile --remote-debugging-port=9222 -incognito about:blank\"/chrome_started=\"$(uname -s)\"; chrome_switches=\"--user-data-dir=chrome\\/tagui_user_profile --remote-debugging-port=9222 about:blank\"/g' ~/.tagui/src/tagui\n"
   ]
  },
  {
   "cell_type": "markdown",
   "metadata": {},
   "source": [
    "<div class=\"alert alert-info alertdanger\" style=\"margin-top: 20px\">\n",
    "    <h1>\n",
    "         Hello World\n",
    "    </h1>\n",
    "    <p>\n",
    "        Let's use TagUI-Python to do some Hello World Demo\n",
    "    </p>\n",
    "    <p>\n",
    "        <b>Check TagUI-Python functions on TagUI-Python(<a href=\"https://github.com/tebelorg/RPA-Python\">https://github.com/tebelorg/RPA-Python</a>) </b>\n",
    "    </p>\n",
    "</div>"
   ]
  },
  {
   "cell_type": "code",
   "execution_count": 3,
   "metadata": {},
   "outputs": [],
   "source": [
    "# import rpa as t for the new vision of TagUI same function just different name\n",
    "import tagui as t"
   ]
  },
  {
   "cell_type": "code",
   "execution_count": 4,
   "metadata": {},
   "outputs": [
    {
     "name": "stdout",
     "output_type": "stream",
     "text": [
      "About 1,330,000,000 results (0.42 seconds)\n",
      "[TAGUI][ERROR] - use init() before using close()\n"
     ]
    }
   ],
   "source": [
    "try:\n",
    "    t.init()\n",
    "    t.url('https://www.google.com')\n",
    "    t.type('//*[@name=\"q\"]', 'Institute of Systems Science[enter]')\n",
    "    print(t.read('//div[@id=\"result-stats\"]'))\n",
    "    t.snap('page', 'results.png')\n",
    "    t.close()\n",
    "finally:\n",
    "    t.close()\n",
    "    \n",
    "# If you see this \"[RPA][ERROR] - use init() before using close()\", \n",
    "# don't worry that is to ensure the TagUI Session has been shutdown"
   ]
  },
  {
   "cell_type": "markdown",
   "metadata": {},
   "source": [
    "`![Search Results](results.png)`\n",
    "![Search Results](results.png)"
   ]
  },
  {
   "cell_type": "code",
   "execution_count": 5,
   "metadata": {},
   "outputs": [],
   "source": [
    "# let's do this step by step to understand"
   ]
  },
  {
   "cell_type": "code",
   "execution_count": 6,
   "metadata": {},
   "outputs": [
    {
     "data": {
      "text/plain": [
       "True"
      ]
     },
     "execution_count": 6,
     "metadata": {},
     "output_type": "execute_result"
    }
   ],
   "source": [
    "# call tagui command and start a session \n",
    "t.init()"
   ]
  },
  {
   "cell_type": "code",
   "execution_count": 7,
   "metadata": {},
   "outputs": [
    {
     "data": {
      "text/plain": [
       "True"
      ]
     },
     "execution_count": 7,
     "metadata": {},
     "output_type": "execute_result"
    }
   ],
   "source": [
    "# go to website (like typing the url)\n",
    "t.url('https://www.google.com')"
   ]
  },
  {
   "cell_type": "code",
   "execution_count": 8,
   "metadata": {},
   "outputs": [
    {
     "data": {
      "text/plain": [
       "True"
      ]
     },
     "execution_count": 8,
     "metadata": {},
     "output_type": "execute_result"
    }
   ],
   "source": [
    "# use xpath '//*[@name=\"q\"]' find the input elements for query and type the text\n",
    "# [enter] means after typing click the [enter] on the keyboard\n",
    "# t.type() is to type text into the the elements queried by given xpath\n",
    "t.type('//*[@name=\"q\"]', 'Institute of Systems Science[enter]')"
   ]
  },
  {
   "cell_type": "code",
   "execution_count": 9,
   "metadata": {},
   "outputs": [
    {
     "name": "stdout",
     "output_type": "stream",
     "text": [
      "About 1,330,000,000 results (0.41 seconds)\n"
     ]
    }
   ],
   "source": [
    "# t.read() is to get the result queried by given xpath\n",
    "print(t.read('//div[@id=\"result-stats\"]'))"
   ]
  },
  {
   "cell_type": "code",
   "execution_count": 10,
   "metadata": {},
   "outputs": [
    {
     "data": {
      "text/plain": [
       "True"
      ]
     },
     "execution_count": 10,
     "metadata": {},
     "output_type": "execute_result"
    }
   ],
   "source": [
    "# t.snap() is for snapshot save screenshot to file\n",
    "t.snap('page', 'results.png')"
   ]
  },
  {
   "cell_type": "code",
   "execution_count": 11,
   "metadata": {},
   "outputs": [
    {
     "data": {
      "text/plain": [
       "True"
      ]
     },
     "execution_count": 11,
     "metadata": {},
     "output_type": "execute_result"
    }
   ],
   "source": [
    "t.close()"
   ]
  },
  {
   "cell_type": "markdown",
   "metadata": {},
   "source": [
    "#### tip:\n",
    "highly recommend to do the 'try-finally' because in the real world application you have to handle the exception \n",
    ",in the mean time to make sure the tagui session has been shutdown."
   ]
  },
  {
   "cell_type": "code",
   "execution_count": 12,
   "metadata": {},
   "outputs": [
    {
     "name": "stdout",
     "output_type": "stream",
     "text": [
      "[TAGUI][ERROR] - use init() before using close()\n"
     ]
    },
    {
     "data": {
      "text/plain": [
       "False"
      ]
     },
     "execution_count": 12,
     "metadata": {},
     "output_type": "execute_result"
    }
   ],
   "source": [
    "# for the wrong exit like manully close the brower\n",
    "t.close()"
   ]
  },
  {
   "cell_type": "markdown",
   "metadata": {},
   "source": [
    "<div class=\"alert alert-info alertdanger\" style=\"margin-top: 20px\">\n",
    "    <h1>\n",
    "         Xpath Tutorial\n",
    "    </h1>\n",
    "    <p>\n",
    "        XPath (XML Path Language) is a query language for locating nodes/elements from an XML/HTML document. In addition, XPath can be used to compute values (e.g. strings, numbers, or Boolean values) from the content of an XML document. XPath was defined by the World Wide Web Consortium (W3C).\n",
    "    </p>\n",
    "</div>"
   ]
  },
  {
   "cell_type": "markdown",
   "metadata": {},
   "source": [
    "- For the tagui and tagui-python, most of its functions are using Xpath to query the element then do some action, like click, type, select.\n",
    "\n",
    "- For now, only the upload() function tagui use the CSS selector to find the element. We will talk about it late.\n",
    "\n",
    "- Xpath cheatsheet https://devhints.io/xpath. This is a very good website show the guide of Xpath."
   ]
  },
  {
   "cell_type": "markdown",
   "metadata": {},
   "source": [
    "# For doing this Tutorial, we need several tools:\n",
    "\n",
    "1. Install Chrome\n",
    "    - Chrome is developer-friendly brower and also the brower Tagui uses.\n",
    "<br>   \n",
    "2. Install Xpath Helper (in normal mode) \n",
    "    - Xpath Helper is a easy-to-use Chrome extension help you to test your xpath work or not\n",
    "    - Using Xpath Helper is better than searching the Chrome Develop Tools.\n",
    "    - Install from: https://chrome.google.com/webstore/detail/xpath-helper/hgimnogjllphhhkhlmebbmlgjoejdpjl?hl=en\n",
    "<br>\n",
    "3. Xpath CheatSheet (https://devhints.io/xpath)\n",
    "    - In this tutorial, we will not go through all the functions and seletors of the Xpath\n",
    "    - If you encounter some problem, like don't konw how to query the element. Maybe you can \n",
    "    - check some other funcation and seletors in this website\n",
    "    \n",
    "Tip: Because the Chrome Extension is installed based on user profile, it is normal the Xpath Helper don't show in the Chrome opened by TagUI."
   ]
  },
  {
   "cell_type": "code",
   "execution_count": 13,
   "metadata": {},
   "outputs": [],
   "source": [
    "# Let's try some example to understand how to use the xpath to query the webpage/XML/HTML element"
   ]
  },
  {
   "cell_type": "markdown",
   "metadata": {},
   "source": [
    "#### First, let's open the chrome develop tools"
   ]
  },
  {
   "cell_type": "markdown",
   "metadata": {},
   "source": [
    "1.open the chrome brower\n",
    "\n",
    "2.If you using Ubuntu or Windows click the [CTRL + SHFIT + i] \n",
    "\n",
    "3.If you using Mac [ options + command + i]"
   ]
  },
  {
   "cell_type": "markdown",
   "metadata": {},
   "source": [
    "![Search Results](xpath_tutorial/chrome_develop_tools_1.png)"
   ]
  },
  {
   "cell_type": "markdown",
   "metadata": {},
   "source": [
    "4.switch to the Elements panel\n",
    "\n",
    "5.To search content, click the [CTRL + f] (for mac [command + f])\n",
    "\n",
    "6.key in \"google.com\""
   ]
  },
  {
   "cell_type": "markdown",
   "metadata": {},
   "source": [
    "![Search Results](xpath_tutorial/chrome_develop_tools_2.png)"
   ]
  },
  {
   "cell_type": "code",
   "execution_count": 14,
   "metadata": {},
   "outputs": [],
   "source": [
    "# If you see the panel like the picture, you are ready for this tuturial"
   ]
  },
  {
   "cell_type": "markdown",
   "metadata": {},
   "source": [
    "<br>\n",
    "<br>\n",
    "\n",
    "#### Tutorial: Learn Xpath and how to use it\n",
    "\n",
    "\n",
    "1. Using the xpath to go through the Sam's ISS profile page; find the xpath of elements contains the information needed\n",
    "2. Using the xpath helper to test your xpath"
   ]
  },
  {
   "cell_type": "markdown",
   "metadata": {},
   "source": [
    "### 1. First on the broswer and go to https://www.iss.nus.edu.sg/about-us/staff/detail/201/GU%20Zhan"
   ]
  },
  {
   "cell_type": "markdown",
   "metadata": {},
   "source": [
    "![Search Results](xpath_tutorial/xp_tu_open_url.png)"
   ]
  },
  {
   "cell_type": "markdown",
   "metadata": {},
   "source": [
    "<br>\n",
    "\n",
    "### 2. Open the Chrome Develop Tools as mentioned"
   ]
  },
  {
   "cell_type": "markdown",
   "metadata": {},
   "source": [
    "![Search Results](xpath_tutorial/xp_tu_open_develop_tools.png)"
   ]
  },
  {
   "cell_type": "markdown",
   "metadata": {},
   "source": [
    "<br>\n",
    "<br>\n",
    "\n",
    "### 3. Open the installed Xpath Helper\n",
    "\n",
    "If not seen, then install it from: https://chrome.google.com/webstore/detail/xpath-helper/hgimnogjllphhhkhlmebbmlgjoejdpjl?hl=en"
   ]
  },
  {
   "cell_type": "markdown",
   "metadata": {},
   "source": [
    "Please Click this button in the Chrome Toolbar (at the top-right of the chrome) to open the Xpath Helper."
   ]
  },
  {
   "cell_type": "markdown",
   "metadata": {},
   "source": [
    "![Search Results](xpath_tutorial/xpath_helper.png)"
   ]
  },
  {
   "cell_type": "markdown",
   "metadata": {},
   "source": [
    "![Search Results](xpath_tutorial/xp_tu_open_xpath_helper.png)"
   ]
  },
  {
   "cell_type": "markdown",
   "metadata": {},
   "source": [
    "### 4. Go Through the Web Page to find information"
   ]
  },
  {
   "cell_type": "markdown",
   "metadata": {},
   "source": [
    "<br>\n",
    "\n",
    "We want to generate a summary report about Sam, below are essential information we may need:\n",
    "    1. Name \n",
    "    2. Title\n",
    "    3. Email\n",
    "    4. Academic and Professional Experience\n",
    "    5. Teaching Courses"
   ]
  },
  {
   "cell_type": "markdown",
   "metadata": {},
   "source": [
    "**Let's start with basic information**\n",
    "\n",
    "1. Name\n",
    "\n",
    "Using the Chrome Develop Tools, you easily find the element you want from the source code of webpage. Just click the icon in the below picture"
   ]
  },
  {
   "cell_type": "markdown",
   "metadata": {},
   "source": [
    "![Search Results](xpath_tutorial/xp_tu_click_button.png)"
   ]
  },
  {
   "cell_type": "markdown",
   "metadata": {},
   "source": [
    "- then click the element you want in the website on the orignal webpage. Develop Tools will highlight the element in the source code panel,\n"
   ]
  },
  {
   "cell_type": "markdown",
   "metadata": {},
   "source": [
    "![Search Results](xpath_tutorial/xp_tu_get_name_1.png)"
   ]
  },
  {
   "cell_type": "markdown",
   "metadata": {},
   "source": [
    "![Search Results](xpath_tutorial/xp_tu_element.png)"
   ]
  },
  {
   "cell_type": "markdown",
   "metadata": {},
   "source": [
    "We can use Develop Tools simpily get the xpath of that element: Right click; Copy; Copy XPath"
   ]
  },
  {
   "cell_type": "markdown",
   "metadata": {},
   "source": [
    "![Search Results](xpath_tutorial/xp_tu_use_chrome_get_path.png)"
   ]
  },
  {
   "cell_type": "markdown",
   "metadata": {},
   "source": [
    "**We obtained xpath locating to the 'Name' we want:**"
   ]
  },
  {
   "cell_type": "raw",
   "metadata": {},
   "source": [
    "//*[@id=\"hdrTitle\"]"
   ]
  },
  {
   "cell_type": "markdown",
   "metadata": {},
   "source": [
    "Use the Xpath Helper to test that xpath and get the result:"
   ]
  },
  {
   "cell_type": "markdown",
   "metadata": {},
   "source": [
    "![Search Results](xpath_tutorial/xp_tu_get_name_relative_path.png)"
   ]
  },
  {
   "cell_type": "markdown",
   "metadata": {},
   "source": [
    "Deeper dive into the element conponents and the xpath generated by Chrome Develop Tools\n",
    "\n",
    "To understand conponents in those paths"
   ]
  },
  {
   "cell_type": "markdown",
   "metadata": {},
   "source": [
    "First, some basic components and knoweledage about:\n",
    "* HTML\n",
    "* HTML element"
   ]
  },
  {
   "cell_type": "markdown",
   "metadata": {},
   "source": [
    "<br>\n",
    "\n",
    "###### HTML is the standard markup language for creating Web pages.\n",
    "\n",
    "    - HTML stands for Hyper Text Markup Language\n",
    "    - HTML describes the structure of a Web page\n",
    "    - HTML consists of a series of elements\n",
    "    - HTML elements tell the browser how to display the content\n",
    "    - HTML elements are represented by tags\n",
    "    - HTML tags label pieces of content such as \"heading\", \"paragraph\", \"table\", and so on\n",
    "    - We browsers do not display the HTML tags, but use them to render the content of the page\n"
   ]
  },
  {
   "cell_type": "markdown",
   "metadata": {},
   "source": [
    "##### HTML Element\n",
    "    - An HTML element usually consists of a start tag and an end tag, with the content inserted in between\n",
    "    - Some HTML elements have empty content\n",
    "    - HTML elements with no content are called empty elements. Empty elements do not have an end tag, such as the <br> element (which indicates a line break).\n",
    "    - Most of HTML elements can have attribute\n",
    "\n",
    "For more information, check https://www.w3schools.com/TAGS/default.ASP"
   ]
  },
  {
   "cell_type": "markdown",
   "metadata": {},
   "source": [
    "###### Let use those knowledage to analysis the \"Name\" element we obtained"
   ]
  },
  {
   "cell_type": "markdown",
   "metadata": {},
   "source": [
    "![Search Results](xpath_tutorial/xp_tu_element.png)"
   ]
  },
  {
   "cell_type": "markdown",
   "metadata": {},
   "source": [
    "- __The tag of this element h1__\n",
    "\n",
    "    - The `<h1>` element defines a heading.\n",
    "    - It has a start tag `<h1>` and an end tag `</h1>`."
   ]
  },
  {
   "cell_type": "markdown",
   "metadata": {},
   "source": [
    "- __This element has several attribute__\n",
    "    - id = \"hdrTitle\"\n",
    "        - The id attribute specifies a unique id for an HTML element (the value must be unique within the HTML document).\n",
    "        - The id value can be used by CSS and JavaScript referring to the element with specific id value.\n",
    "    - class (= \"...\")\n",
    "        - The HTML class attribute is used to define equal styles for elements with the same class value: \"...\".\n",
    "        - So, all HTML elements with the same class attribute value will be rendered in the same style."
   ]
  },
  {
   "cell_type": "markdown",
   "metadata": {},
   "source": [
    "- __This element has content__\n",
    "    - GU Zhan"
   ]
  },
  {
   "cell_type": "code",
   "execution_count": 15,
   "metadata": {},
   "outputs": [],
   "source": [
    "# Second, let's go through the XPath cheatsheet \n",
    "# to understand how the xpath represent this Name element"
   ]
  },
  {
   "cell_type": "markdown",
   "metadata": {},
   "source": [
    "##### Xpath"
   ]
  },
  {
   "cell_type": "markdown",
   "metadata": {},
   "source": [
    "![Search Results](xpath_tutorial/xp_tu_syntax.png)"
   ]
  },
  {
   "cell_type": "markdown",
   "metadata": {},
   "source": [
    "![Search Results](xpath_tutorial/xp_tu_selector.png)"
   ]
  },
  {
   "cell_type": "raw",
   "metadata": {},
   "source": [
    "//*[@id=\"hdrTitle\"]"
   ]
  },
  {
   "cell_type": "markdown",
   "metadata": {},
   "source": [
    "xpath above: Selects all nodes with the id \"hdrTitle\""
   ]
  },
  {
   "cell_type": "raw",
   "metadata": {},
   "source": [
    "/html/body/form/div[4]/div[1]/div/div/div/div/div/div/div/div[1]/h1"
   ]
  },
  {
   "cell_type": "markdown",
   "metadata": {},
   "source": [
    "html full path above: Well the absolate path is strightforward, just go through all parents node then get the target element (Easy but unrealiabe when webpage structure changes)"
   ]
  },
  {
   "cell_type": "code",
   "execution_count": 16,
   "metadata": {},
   "outputs": [],
   "source": [
    "# Because of the xpath can use combine different selector, predicates,functions,\n",
    "# Everyone can use different xpath to query the same element which is depend on the person himself"
   ]
  },
  {
   "cell_type": "markdown",
   "metadata": {},
   "source": [
    "`//div[@id='ISS_Main_T467AEC33004_Col00']/h1`"
   ]
  },
  {
   "cell_type": "code",
   "execution_count": 17,
   "metadata": {},
   "outputs": [],
   "source": [
    "# But which one is best ? \n",
    "# We don't know which one is one best but we can choose robuster one.\n"
   ]
  },
  {
   "cell_type": "code",
   "execution_count": 18,
   "metadata": {},
   "outputs": [],
   "source": [
    "# Sometimes the element's attriube may be changed after website upgarde or just after you refresh the page\n",
    "# RPA Challenge Website, http://www.rpachallenge.com/, is a website where your can test xpath skills.\n",
    "\n",
    "# Though the xpath or the full xpath provide by Develop Tools is very convenient,\n",
    "# But for task on some page like RPA Challenge, Your xpath will fail just after webpate refresh\n"
   ]
  },
  {
   "cell_type": "markdown",
   "metadata": {},
   "source": [
    "![Search Results](xpath_tutorial/xp_tu_rpac_demo_1.png)"
   ]
  },
  {
   "cell_type": "markdown",
   "metadata": {},
   "source": [
    "![Search Results](xpath_tutorial/xp_tu_rpac_demo_2.png)"
   ]
  },
  {
   "cell_type": "markdown",
   "metadata": {},
   "source": [
    "###### Now let's obtain xpath of other required information to finish the remain task"
   ]
  },
  {
   "cell_type": "markdown",
   "metadata": {},
   "source": [
    "2. Title Information"
   ]
  },
  {
   "cell_type": "code",
   "execution_count": 19,
   "metadata": {},
   "outputs": [],
   "source": [
    "# Write down your xpath:\n"
   ]
  },
  {
   "cell_type": "markdown",
   "metadata": {},
   "source": [
    "![Search Results](xpath_tutorial/xp_tu_get_title.png)"
   ]
  },
  {
   "cell_type": "code",
   "execution_count": 20,
   "metadata": {},
   "outputs": [],
   "source": [
    "# Write down your xpath:\n",
    "# Examples:"
   ]
  },
  {
   "cell_type": "raw",
   "metadata": {},
   "source": [
    "//*[@id=\"ISS_Main_T467AEC33010_Col00\"]/section/div/div/div[1]/div/h3"
   ]
  },
  {
   "cell_type": "raw",
   "metadata": {},
   "source": [
    "//div[@class='block-profile-img']/h3"
   ]
  },
  {
   "cell_type": "markdown",
   "metadata": {},
   "source": [
    "3. Email Information"
   ]
  },
  {
   "cell_type": "code",
   "execution_count": 21,
   "metadata": {},
   "outputs": [],
   "source": [
    "# Write down your xpath:\n"
   ]
  },
  {
   "cell_type": "markdown",
   "metadata": {},
   "source": [
    "![Search Results](xpath_tutorial/xp_tu_get_email_info.png)"
   ]
  },
  {
   "cell_type": "code",
   "execution_count": 22,
   "metadata": {},
   "outputs": [],
   "source": [
    "# Write down your xpath:\n",
    "# Examples:"
   ]
  },
  {
   "cell_type": "raw",
   "metadata": {},
   "source": [
    "//*[@id=\"ISS_Main_T467AEC33010_Col00\"]/section/div/div/div[1]/div/ul/li/a/@onclick"
   ]
  },
  {
   "cell_type": "raw",
   "metadata": {},
   "source": [
    "//a[contains(@onclick,'sendemail')]/@onclick"
   ]
  },
  {
   "cell_type": "raw",
   "metadata": {},
   "source": [
    "//*[contains(@onclick,'sendemail')]/@onclick"
   ]
  },
  {
   "cell_type": "raw",
   "metadata": {},
   "source": [
    "(//@onclick)[2]"
   ]
  },
  {
   "cell_type": "markdown",
   "metadata": {},
   "source": [
    "__Academic and Professional Experience__"
   ]
  },
  {
   "cell_type": "code",
   "execution_count": 23,
   "metadata": {},
   "outputs": [],
   "source": [
    "# Write down your xpath:\n"
   ]
  },
  {
   "cell_type": "markdown",
   "metadata": {},
   "source": [
    "![Search Results](xpath_tutorial/xp_tu_get_academic_info.png)"
   ]
  },
  {
   "cell_type": "code",
   "execution_count": 24,
   "metadata": {},
   "outputs": [],
   "source": [
    "# Write down your xpath:\n",
    "# Examples:"
   ]
  },
  {
   "cell_type": "raw",
   "metadata": {},
   "source": [
    "//*[@id=\"ISS_Main_T467AEC33010_Col00\"]/section/div/div/div[2]/div/div[1]/div[2]/div[2]/div/ul/li[1]/text()"
   ]
  },
  {
   "cell_type": "raw",
   "metadata": {},
   "source": [
    "//*[@id=\"ISS_Main_T467AEC33010_Col00\"]/section/div/div/div[2]/div/div[1]/div[2]/div[2]/div/ul/li[2]/text()"
   ]
  },
  {
   "cell_type": "raw",
   "metadata": {},
   "source": [
    "//*[@id=\"ISS_Main_T467AEC33010_Col00\"]/section/div/div/div[2]/div/div[1]/div[2]/div[2]/div/ul/li[3]/text()"
   ]
  },
  {
   "cell_type": "raw",
   "metadata": {},
   "source": [
    "(//div[contains(@class,'accordion_block') and contains(string(),'Academic')]//ul/li)[1]"
   ]
  },
  {
   "cell_type": "raw",
   "metadata": {},
   "source": [
    "(//div[contains(@class,'accordion_block') and contains(string(),'Academic')]//ul/li)[2]"
   ]
  },
  {
   "cell_type": "raw",
   "metadata": {},
   "source": [
    "(//div[contains(@class,'accordion_block') and contains(string(),'Academic')]//ul/li)[3]"
   ]
  },
  {
   "cell_type": "markdown",
   "metadata": {},
   "source": [
    "__Teaching Courses__"
   ]
  },
  {
   "cell_type": "code",
   "execution_count": 25,
   "metadata": {},
   "outputs": [],
   "source": [
    "# Write down your xpath:\n"
   ]
  },
  {
   "cell_type": "markdown",
   "metadata": {},
   "source": [
    "![Search Results](xpath_tutorial/xp_tu_get_teach_info_correct.png)"
   ]
  },
  {
   "cell_type": "code",
   "execution_count": 26,
   "metadata": {},
   "outputs": [],
   "source": [
    "# Write down your xpath:\n",
    "# Examples:"
   ]
  },
  {
   "cell_type": "raw",
   "metadata": {},
   "source": [
    "//*[@id=\"ISS_Main_T467AEC33010_Col00\"]/section/div/div/div[2]/div/div[2]/a[1]"
   ]
  },
  {
   "cell_type": "raw",
   "metadata": {},
   "source": [
    "//*[@id=\"ISS_Main_T467AEC33010_Col00\"]/section/div/div/div[2]/div/div[2]/a[2]"
   ]
  },
  {
   "cell_type": "raw",
   "metadata": {},
   "source": [
    "//*[@id=\"ISS_Main_T467AEC33010_Col00\"]/section/div/div/div[2]/div/div[2]/a[3]"
   ]
  },
  {
   "cell_type": "raw",
   "metadata": {},
   "source": [
    "(//article[contains(@class,'course-block--profile')])[1]"
   ]
  },
  {
   "cell_type": "raw",
   "metadata": {},
   "source": [
    "(//article[contains(@class,'course-block--profile')])[2]"
   ]
  },
  {
   "cell_type": "raw",
   "metadata": {},
   "source": [
    "(//article[contains(@class,'course-block--profile')])[3]"
   ]
  },
  {
   "cell_type": "raw",
   "metadata": {},
   "source": [
    "//*[@id=\"ISS_Main_T467AEC33010_Col00\"]/section/div/div/div[2]/div/div[2]/a[1]/div/article/div/h3"
   ]
  },
  {
   "cell_type": "raw",
   "metadata": {},
   "source": [
    "//*[@id=\"ISS_Main_T467AEC33010_Col00\"]/section/div/div/div[2]/div/div[2]/a[2]/div/article/div/h3"
   ]
  },
  {
   "cell_type": "raw",
   "metadata": {},
   "source": [
    "//*[@id=\"ISS_Main_T467AEC33010_Col00\"]/section/div/div/div[2]/div/div[2]/a[3]/div/article/div/h3"
   ]
  },
  {
   "cell_type": "raw",
   "metadata": {},
   "source": [
    "(//article[contains(@class,'course-block--profile')]//h3)[1]"
   ]
  },
  {
   "cell_type": "raw",
   "metadata": {},
   "source": [
    "(//article[contains(@class,'course-block--profile')]//h3)[2]"
   ]
  },
  {
   "cell_type": "raw",
   "metadata": {},
   "source": [
    "(//article[contains(@class,'course-block--profile')]//h3)[3]"
   ]
  },
  {
   "cell_type": "markdown",
   "metadata": {},
   "source": [
    "#### Now you are fimilar with the xpath, let's start exercises using xpath in tagui-python"
   ]
  },
  {
   "cell_type": "markdown",
   "metadata": {},
   "source": [
    "<div class=\"alert alert-danger alertdanger\" style=\"margin-top: 20px\">\n",
    "    <h1>\n",
    "         Exercise 1\n",
    "    </h1>\n",
    "    <p>\n",
    "         Please try to fill in all the Question Marks by yourself first\n",
    "    </p>\n",
    "    <p>\n",
    "         Collect 10 ISS lectures' digital profile snapshot on ISS Website\n",
    "    </p>\n",
    "    <p>\n",
    "         Optional: Collect 10 ISS lectures' digital profile snapshot on LinkedIn\n",
    "    </p>\n",
    "        <p>\n",
    "        <b>Check TagUI-Python functions on TagUI-Python(<a href=\"https://github.com/tebelorg/RPA-Python\">https://github.com/tebelorg/RPA-Python</a>) </b>\n",
    "    </p>\n",
    "</div>"
   ]
  },
  {
   "cell_type": "markdown",
   "metadata": {},
   "source": [
    "#### Hints: Collect 10 ISS lectures' digital profile snapshot on ISS Website\n",
    "\n",
    "1. Find how to go to the Teaching Staff page on ISS Website\n",
    "\n",
    "1. Get all the lectures' ISS Profile Page link\n",
    "\n",
    "2. Go though 10 lectures' ISS Profile Page, take snapshot and save; Use tagUI command: **t.snap('page', 'exercise_1/file_name.png')**\n"
   ]
  },
  {
   "cell_type": "code",
   "execution_count": 27,
   "metadata": {},
   "outputs": [],
   "source": [
    "# Write your code from here:\n"
   ]
  },
  {
   "cell_type": "markdown",
   "metadata": {},
   "source": [
    "---"
   ]
  },
  {
   "cell_type": "code",
   "execution_count": 28,
   "metadata": {},
   "outputs": [],
   "source": [
    "# Or use below 'filling the blank' coding template:"
   ]
  },
  {
   "cell_type": "code",
   "execution_count": 7,
   "metadata": {},
   "outputs": [],
   "source": [
    "# import rpa as t\n",
    "import tagui as t"
   ]
  },
  {
   "cell_type": "code",
   "execution_count": 8,
   "metadata": {},
   "outputs": [
    {
     "name": "stdout",
     "output_type": "stream",
     "text": [
      "[TAGUI][ERROR] - use init() before using close()\n"
     ]
    },
    {
     "data": {
      "text/plain": [
       "False"
      ]
     },
     "execution_count": 8,
     "metadata": {},
     "output_type": "execute_result"
    }
   ],
   "source": [
    "# for the wrong exit like manully close the brower\n",
    "t.close()"
   ]
  },
  {
   "cell_type": "code",
   "execution_count": 9,
   "metadata": {},
   "outputs": [],
   "source": [
    "# highly useful function for demo\n",
    "def hover_and_read(selector):\n",
    "    t.hover(selector)\n",
    "    str = t.read(selector)\n",
    "    return str"
   ]
  },
  {
   "cell_type": "code",
   "execution_count": 12,
   "metadata": {},
   "outputs": [],
   "source": [
    "# Define a list to hold all lecturers' info\n",
    "lectures = []"
   ]
  },
  {
   "cell_type": "code",
   "execution_count": 15,
   "metadata": {
    "scrolled": true
   },
   "outputs": [
    {
     "name": "stdout",
     "output_type": "stream",
     "text": [
      "Mr. Aaron CHUA\n",
      "issckk@nus.edu.sg\n",
      "/about-us/staff/detail/241/Aaron CHUA\n",
      "\n",
      "Ms. Angela HUANG\n",
      "isshll@nus.edu.sg\n",
      "/about-us/staff/detail/170/Angela HUANG\n",
      "\n",
      "Mr. Ashok Kumar SEETHARAMAN\n",
      "issaks@nus.edu.sg\n",
      "/about-us/staff/detail/521/Ashok Kumar SEETHARAMAN\n",
      "\n",
      "Dr. Barry Adrian SHEPHERD\n",
      "issbas@nus.edu.sg\n",
      "/about-us/staff/detail/24/Barry Adrian SHEPHERD\n",
      "\n",
      "Mr. Brandon NG\n",
      "issnst@nus.edu.sg\n",
      "/about-us/staff/detail/653/Brandon NG\n",
      "\n",
      "Dr. Brian ANG\n",
      "issajhb@nus.edu.sg\n",
      "/about-us/staff/detail/232/Brian ANG\n",
      "\n",
      "Mr. Brian NG\n",
      "issngm@nus.edu.sg\n",
      "/about-us/staff/detail/330/Brian NG\n",
      "\n",
      "Mr. Chandrasekaran PARAMASIVAM\n",
      "isscp@nus.edu.sg\n",
      "/about-us/staff/detail/492/Chandrasekaran PARAMASIVAM\n",
      "\n",
      "Mr. Charles PANG\n",
      "isscpth@nus.edu.sg\n",
      "/about-us/staff/detail/173/Charles PANG\n",
      "\n",
      "Mr. CHIA Yuen Kwan\n",
      "isscyk@nus.edu.sg\n",
      "/about-us/staff/detail/169/CHIA Yuen Kwan\n",
      "\n",
      "Ms. CHIN Wun Yunn\n",
      "isscwy@nus.edu.sg\n",
      "/about-us/staff/detail/338/CHIN Wun Yunn\n",
      "\n",
      "Mr. Daniel BOEY\n",
      "issdbsk@nus.edu.sg\n",
      "/about-us/staff/detail/225/Daniel BOEY\n",
      "\n",
      "Mr. Debashis TARAFDAR\n",
      "issdt@nus.edu.sg\n",
      "/about-us/staff/detail/339/Debashis TARAFDAR\n",
      "\n",
      "Mr. Eric THAM\n",
      "isstyc@nus.edu.sg\n",
      "/about-us/staff/detail/ce1c1b29-c27b-41d7-a8bd-9b4645806bef/Eric THAM\n",
      "\n",
      "Dr. Esther TAN\n",
      "isstane@nus.edu.sg\n",
      "/about-us/staff/detail/53/Esther TAN\n",
      "\n",
      "Dr. FAN Zhen Zhen\n",
      "issfz@nus.edu.sg\n",
      "/about-us/staff/detail/278/FAN Zhen Zhen\n",
      "\n",
      "Ms. Felicitas SEAH\n",
      "isssjhf@nus.edu.sg\n",
      "/about-us/staff/detail/406/Felicitas SEAH\n",
      "\n",
      "Mr. GOH Boon Nam\n",
      "issgbn@nus.edu.sg\n",
      "/about-us/staff/detail/377/GOH Boon Nam\n",
      "\n",
      "Mr. GU Zhan\n",
      "issgz@nus.edu.sg\n",
      "/about-us/staff/detail/201/GU Zhan\n",
      "\n",
      "Mr. HENG Boon Kui\n",
      "isshbk@nus.edu.sg\n",
      "/about-us/staff/detail/261/HENG Boon Kui\n",
      "\n",
      "Mr. Kenneth PHANG\n",
      "isskpty@nus.edu.sg\n",
      "/about-us/staff/detail/648/Kenneth PHANG\n",
      "\n",
      "Mr. KHOONG Chan Meng\n",
      "isskcm@nus.edu.sg\n",
      "/about-us/staff/detail/561/KHOONG Chan Meng\n",
      "\n",
      "Mr. KOH Wai Kin\n",
      "isskwk@nus.edu.sg\n",
      "/about-us/staff/detail/209/KOH Wai Kin\n",
      "\n",
      "Mr. LEE Boon Kee\n",
      "isslbk@nus.edu.sg\n",
      "/about-us/staff/detail/512/LEE Boon Kee\n",
      "\n",
      "Mr. LEE Chuk Munn\n",
      "isslcm@nus.edu.sg\n",
      "/about-us/staff/detail/532/LEE Chuk Munn\n",
      "\n",
      "Mr.  LEE Lin Hui\n",
      "issllh@nus.edu.sg\n",
      "/about-us/staff/detail/344/LEE Lin Hui\n",
      "\n",
      "Dr. LEONG Mun Kew\n",
      "isslmk@nus.edu.sg\n",
      "/about-us/staff/detail/281/LEONG Mun Kew\n",
      "\n",
      "Ms.  LI Mengyuan\n",
      "isslm@nus.edu.sg\n",
      "/about-us/staff/detail/345/LI Mengyuan\n",
      "\n",
      "Ms. LIM Wee Khee\n",
      "isslwk@nus.edu.sg\n",
      "/about-us/staff/detail/668/LIM Wee Khee\n",
      "\n",
      "Ms. Lisa ONG\n",
      "issohl@nus.edu.sg\n",
      "/about-us/staff/detail/203/Lisa ONG\n",
      "\n",
      "Dr.  LIU Fan\n",
      "isslf@nus.edu.sg\n",
      "/about-us/staff/detail/196/LIU Fan\n",
      "\n",
      "Dr. Matthew CHUA\n",
      "isscchm@nus.edu.sg\n",
      "/about-us/staff/detail/654/Matthew CHUA\n",
      "\n",
      "Mr.  Max NEO\n",
      "issnyhm@nus.edu.sg\n",
      "/about-us/staff/detail/238/Max NEO\n",
      "\n",
      "Mr. Michael TAN\n",
      "isstyhm@nus.edu.sg\n",
      "/about-us/staff/detail/458/Michael TAN\n",
      "\n",
      "Mr. NG Kok Leong\n",
      "issnkl@nus.edu.sg\n",
      "/about-us/staff/detail/122/NG Kok Leong\n",
      "\n",
      "Mr. NGUYEN Tri Tin\n",
      "issntt@nus.edu.sg\n",
      "/about-us/staff/detail/217/NGUYEN Tri Tin\n",
      "\n",
      "Mr. Nicholas TAN\n",
      "isstchn@nus.edu.sg\n",
      "/about-us/staff/detail/583/Nicholas TAN\n",
      "\n",
      "Mr. Nirmal Raja PALAPARTHI\n",
      "isspnr@nus.edu.sg\n",
      "/about-us/staff/detail/732/Nirmal Raja PALAPARTHI\n",
      "\n",
      "Mr. Prakash Chandra SUKHWAL\n",
      "isspcs@nus.edu.sg\n",
      "/about-us/staff/detail/98592a25-d6d1-4260-9130-d666923fced3/Prakash Chandra SUKHWAL\n",
      "\n",
      "Mr. Rajnish TULI\n",
      "issrt@nus.edu.sg\n",
      "/about-us/staff/detail/05f26cbd-ccac-4028-ac2f-6e85f925cfe6/Rajnish TULI\n",
      "\n",
      "Mr. Richard TAN\n",
      "isstmhr@nus.edu.sg\n",
      "/about-us/staff/detail/369/Richard TAN\n",
      "\n",
      "Dr. Rita CHAKRAVARTI\n",
      "issritac@nus.edu.sg\n",
      "/about-us/staff/detail/672/Rita CHAKRAVARTI\n",
      "\n",
      "Dr. Sarita SINGH\n",
      "isssari@nus.edu.sg\n",
      "/about-us/staff/detail/219/Sarita SINGH\n",
      "\n",
      "Mr. Sean HOANG\n",
      "isshns@nus.edu.sg\n",
      "/about-us/staff/detail/208/Sean HOANG\n",
      "\n",
      "Ms Sharon LAU\n",
      "isslpws@nus.edu.sg\n",
      "/about-us/staff/detail/312/Sharon LAU\n",
      "\n",
      "Dr. Suriya Priya ASAITHAMBI\n",
      "issspa@nus.edu.sg\n",
      "/about-us/staff/detail/272/Suriya Priya ASAITHAMBI\n",
      "\n",
      "Ms. Swarnalatha ASHOK\n",
      "issas@nus.edu.sg\n",
      "/about-us/staff/detail/66/Swarnalatha ASHOK\n",
      "\n",
      "Ms. Tamsin Emma Maria GREULICH-SMITH\n",
      "tamsin@nus.edu.sg\n",
      "/about-us/staff/detail/584/Tamsin Emma Maria GREULICH-SMITH\n",
      "\n",
      "Mr. TAN Cher Wah\n",
      "isstcw@nus.edu.sg\n",
      "/about-us/staff/detail/326/TAN Cher Wah\n",
      "\n",
      "Mr. TAN Chi Siong\n",
      "isstan@nus.edu.sg\n",
      "/about-us/staff/detail/309/TAN Chi Siong\n",
      "\n",
      "Mr. TAN Eng Tsze\n",
      "isstet@nus.edu.sg\n",
      "/about-us/staff/detail/283/TAN Eng Tsze\n",
      "\n",
      "Dr. TAN Jen Hong\n",
      "isstjh@nus.edu.sg\n",
      "/about-us/staff/detail/212/TAN Jen Hong\n",
      "\n",
      "Mrs. TAN Lay Ngan\n",
      "issngln@nus.edu.sg\n",
      "/about-us/staff/detail/79/TAN Lay Ngan\n",
      "\n",
      "Mr. TAN Liong Choon\n",
      "isstlc@nus.edu.sg\n",
      "/about-us/staff/detail/333/TAN Liong Choon\n",
      "\n",
      "Mr. TAN Peng Wei\n",
      "isstpw@nus.edu.sg\n",
      "/about-us/staff/detail/632/TAN Peng Wei\n",
      "\n",
      "Mr. TAN Tzann Chang\n",
      "issttc@nus.edu.sg\n",
      "/about-us/staff/detail/254/TAN Tzann Chang\n",
      "\n",
      "Dr. TIAN Jing\n",
      "isstj@nus.edu.sg\n",
      "/about-us/staff/detail/179/TIAN Jing\n",
      "\n",
      "Dr. Venkat RAMANATHAN\n",
      "issrav@nus.edu.sg\n",
      "/about-us/staff/detail/111/Venkat RAMANATHAN\n",
      "\n",
      "Ms. Vivien CHAN\n",
      "isscww@nus.edu.sg\n",
      "/about-us/staff/detail/2c432aaf-bfbb-4ced-b0ea-d85eafbb3d36/Vivien CHAN\n",
      "\n",
      "Dr. WANG Aobo\n",
      "isswan@nus.edu.sg\n",
      "/about-us/staff/detail/328/WANG Aobo\n",
      "\n",
      "Mr. YU Chen Kuang\n",
      "issyck@nus.edu.sg\n",
      "/about-us/staff/detail/461/YU Chen Kuang\n",
      "\n",
      "Mrs. YUM Hui Yuen\n",
      "issyumhy@nus.edu.sg\n",
      "/about-us/staff/detail/5/YUM Hui Yuen\n",
      "\n",
      "Dr. ZHU Fang Ming\n",
      "isszfm@nus.edu.sg\n",
      "/about-us/staff/detail/260/ZHU Fang Ming\n",
      "\n"
     ]
    },
    {
     "data": {
      "text/plain": [
       "True"
      ]
     },
     "execution_count": 15,
     "metadata": {},
     "output_type": "execute_result"
    }
   ],
   "source": [
    "t.init()\n",
    "t.url(\"https://www.iss.nus.edu.sg/\")\n",
    "t.wait(7)\n",
    "t.???('//a[@id=\"???\"]')\n",
    "t.click('//a[contains(@href,\"teaching-staff\")]')\n",
    "t.wait(5)\n",
    "\n",
    "while True:\n",
    "    current_page_num = t.count(\"//div[@class='block-profile-thumb']\")\n",
    "    for i in range(1,current_page_num+1):\n",
    "        name = hover_and_read(f\"(//div[@class='block-profile-thumb'])[{i}]//a[contains(@???,???)]\")\n",
    "        email_text = t.read(f\"###your code/xpath here###\")\n",
    "        email = ###your code/xpath here: to convert email to format, e.g. abc@def.com###\n",
    "        iss_profile_link = t.read(f\"###your code/xpath here###\")\n",
    "        print(name)\n",
    "        print(email)\n",
    "        print(iss_profile_link)\n",
    "        print()\n",
    "        \n",
    "        lectures.append({'name':name,\n",
    "                     'email':email,\n",
    "                     'iss_profile_link':'https://www.iss.nus.edu.sg' + iss_profile_link})\n",
    "    if t.present(\"###your code/xpath here###\"): # the xpath of next page button\n",
    "        t.click(\"###your code/xpath here###\")\n",
    "        t.wait(3)\n",
    "    else:\n",
    "        break\n",
    "t.close()\n",
    "\n",
    "selected_lectures = lectures[:10]\n",
    "# selected_lectures = lectures\n",
    "\n",
    "t.init()\n",
    "for lecture in selected_lectures:\n",
    "    t.url(lecture['iss_profile_link'])\n",
    "    t.wait(3)\n",
    "    t.???('page', ('exercise_1/' + lecture['name'] + '_profile.png').replace(' ',''))\n",
    "    lecture['snapshot_location'] = ('exercise_1/' + lecture['name'] + '_profile.png').replace(' ','')\n",
    "t.close()"
   ]
  },
  {
   "cell_type": "code",
   "execution_count": 16,
   "metadata": {},
   "outputs": [
    {
     "data": {
      "text/plain": [
       "63"
      ]
     },
     "execution_count": 16,
     "metadata": {},
     "output_type": "execute_result"
    }
   ],
   "source": [
    "len(lectures)"
   ]
  },
  {
   "cell_type": "code",
   "execution_count": 17,
   "metadata": {},
   "outputs": [
    {
     "data": {
      "text/plain": [
       "10"
      ]
     },
     "execution_count": 17,
     "metadata": {},
     "output_type": "execute_result"
    }
   ],
   "source": [
    "len(selected_lectures)"
   ]
  },
  {
   "cell_type": "code",
   "execution_count": 19,
   "metadata": {
    "scrolled": true
   },
   "outputs": [
    {
     "data": {
      "text/markdown": [
       "![](exercise_1/Ms.AngelaHUANG_profile.png)"
      ],
      "text/plain": [
       "<IPython.core.display.Markdown object>"
      ]
     },
     "metadata": {},
     "output_type": "display_data"
    }
   ],
   "source": [
    "display(Markdown('![]('+selected_lectures[1]['snapshot_location']+')'))"
   ]
  },
  {
   "cell_type": "code",
   "execution_count": 6,
   "metadata": {},
   "outputs": [],
   "source": [
    "# Uncommnet below, then press Shift+Enter for solution\n",
    "# codehelper.hint_for_exercise_one()"
   ]
  },
  {
   "cell_type": "markdown",
   "metadata": {},
   "source": [
    "### Optional: Collect 10 ISS lectures' digital profile snapshot on LinkedIn"
   ]
  },
  {
   "cell_type": "code",
   "execution_count": null,
   "metadata": {
    "scrolled": true
   },
   "outputs": [],
   "source": [
    "t.init()\n",
    "for lecture in selected_lectures:\n",
    "    t.url('https://www.google.com')\n",
    "    t.type('###your code/xpath here###', ''+lecture['name']+' ' + lecture['email'] + ' LinkedIn[enter]')\n",
    "    t.click('//a[contains(@href,\"linkedin.com\")][1]')  \n",
    "    t.wait(3)\n",
    "    t.snap('page', ('exercise_1/' + lecture['name'] + '_profile_linkedin.png').replace(' ',''))\n",
    "    lecture['snapshot_location'] = ('exercise_1/' + lecture['name'] + '_profile_linkedin.png').replace(' ','')\n",
    "t.close()"
   ]
  },
  {
   "cell_type": "code",
   "execution_count": null,
   "metadata": {},
   "outputs": [],
   "source": [
    "# Any Problem? Do you realize some limitation of RPA ?"
   ]
  },
  {
   "cell_type": "code",
   "execution_count": 80,
   "metadata": {
    "scrolled": false
   },
   "outputs": [],
   "source": [
    "# Uncommnet below, for LinkedIn solution\n",
    "\n",
    "# t.type('//*[@name=\"q\"]', ''+lecture['name']+' ' + lecture['email'] + ' LinkedIn[enter]')\n"
   ]
  },
  {
   "cell_type": "markdown",
   "metadata": {},
   "source": [
    "<div class=\"alert alert-danger alertdanger\" style=\"margin-top: 20px\">\n",
    "    <h1>\n",
    "         Exercise 2\n",
    "    </h1>\n",
    "    <p>\n",
    "        login into your own email. Gmail? Hotmail?\n",
    "    </p>\n",
    "    <p>\n",
    "         Optional: login into your NUS email\n",
    "    </p>\n",
    "        <p>\n",
    "        <b>Check TagUI-Python functions on TagUI-Python(<a href=\"https://github.com/tebelorg/RPA-Python\">https://github.com/tebelorg/RPA-Python</a>) </b>\n",
    "    </p>\n",
    "</div>"
   ]
  },
  {
   "cell_type": "code",
   "execution_count": 44,
   "metadata": {},
   "outputs": [],
   "source": [
    "# Write your code from here:\n"
   ]
  },
  {
   "cell_type": "markdown",
   "metadata": {},
   "source": [
    "---"
   ]
  },
  {
   "cell_type": "code",
   "execution_count": 45,
   "metadata": {},
   "outputs": [],
   "source": [
    "# Or use below 'filling the blank' coding template:"
   ]
  },
  {
   "cell_type": "code",
   "execution_count": 46,
   "metadata": {},
   "outputs": [
    {
     "name": "stdout",
     "output_type": "stream",
     "text": [
      "[TAGUI][ERROR] - use init() before using close()\n"
     ]
    },
    {
     "data": {
      "text/plain": [
       "False"
      ]
     },
     "execution_count": 46,
     "metadata": {},
     "output_type": "execute_result"
    }
   ],
   "source": [
    "t.close()"
   ]
  },
  {
   "cell_type": "code",
   "execution_count": 50,
   "metadata": {},
   "outputs": [],
   "source": [
    "import json\n",
    "\n",
    "email_info = None\n",
    "with open(\"exercise_2/email_info.json\",'r') as load_f: # Ask lecturer for this exercise_2/email_info.json file\n",
    "    email_info = json.load(load_f)\n",
    "    \n",
    "email_info = email_info['1']\n",
    "# email_info"
   ]
  },
  {
   "cell_type": "code",
   "execution_count": null,
   "metadata": {},
   "outputs": [],
   "source": [
    "t.init()\n",
    "t.url('https://login.live.com/login.srf?wa=wsignin1.0&rpsnv=13&ct=1580788659&rver=7.0.6737.0&wp=MBI_SSL&wreply=https%3a%2f%2foutlook.live.com%2fowa%2f%3fnlp%3d1%26RpsCsrfState%3dd234420e-f55a-d62c-a8e6-c1c9a31e4e54&id=292841&aadredir=1&CBCXT=out&lw=1&fl=dob%2cflname%2cwld&cobrandid=90015')\n",
    "t.???('###your code/xpath here: for login email###', email_info['email'] + '[enter]')\n",
    "t.wait(0.5)\n",
    "t.type('###your code/xpath here: for login password###', email_info['password'] + '[enter]')\n",
    "\n",
    "count = 0\n",
    "while True:\n",
    "    if count > 15:\n",
    "        raise \"Fail.Please Check your Internet Connection.\"\n",
    "    if t.present('//a[@href=\"https://outlook.com\"]'):\n",
    "        t.wait(2)\n",
    "        break\n",
    "    else:\n",
    "        t.wait(1)\n",
    "        count = count + 1\n",
    "t.snap('###your code/xpath here: for screenshot###', 'exercise_2/email_snapshot.png')\n",
    "t.close()"
   ]
  },
  {
   "cell_type": "markdown",
   "metadata": {},
   "source": [
    "![Search Results](exercise_2/email_snapshot.png)"
   ]
  },
  {
   "cell_type": "code",
   "execution_count": 54,
   "metadata": {
    "scrolled": false
   },
   "outputs": [],
   "source": [
    "# Uncommnet below, then press Shift+Enter for solution\n",
    "# codehelper.hint_for_exercise_two()"
   ]
  },
  {
   "cell_type": "markdown",
   "metadata": {},
   "source": [
    "### Optional: login into your NUS email\n",
    "    - Hint: find the correct url"
   ]
  },
  {
   "cell_type": "markdown",
   "metadata": {},
   "source": [
    "<div class=\"alert alert-info alertdanger\" style=\"margin-top: 20px\">\n",
    "    <h1>\n",
    "         CSS Selector Tutorial\n",
    "    </h1>\n",
    "    <p>\n",
    "        CSS selectors are used to \"find\" (or select) the HTML elements you want to style.\n",
    "        <ul>We can divide CSS selectors into five categories:\n",
    "            <li>Simple selectors (select elements based on name, id, class)</li>\n",
    "            <li>Combinator selectors (select elements based on a specific relationship between them)</li>\n",
    "            <li>Pseudo-class selectors (select elements based on a certain state)</li>\n",
    "            <li>Pseudo-elements selectors (select and style a part of an element)</li>\n",
    "            <li>Attribute selectors (select elements based on an attribute or attribute value)</li>\n",
    "            <li>Reference: <a href='https://www.w3schools.com/cssref/css_selectors.asp'>https://www.w3schools.com/cssref/css_selectors.asp</a></li>\n",
    "    </ul>\n",
    "    </p>\n",
    "</div>"
   ]
  },
  {
   "cell_type": "markdown",
   "metadata": {},
   "source": [
    "![Search Results](css_tutorial/css_tu_refer.png)"
   ]
  },
  {
   "cell_type": "markdown",
   "metadata": {},
   "source": [
    "<div class=\"alert alert-info alertdanger\" style=\"margin-top: 20px\">\n",
    "    <p>\n",
    "       <b>Xpath Helper</b> can not be used in this tuturial\n",
    "    </p>\n",
    "    <p>\n",
    "       <b>CSS Selector</b> can only localte the element but can not get the value in the element's attribute\n",
    "    </p>\n",
    "</div>"
   ]
  },
  {
   "cell_type": "code",
   "execution_count": 55,
   "metadata": {},
   "outputs": [],
   "source": [
    "#Let's do the same task in the Xpath Tutorial\n",
    "#Try to get the Sam's Profile on WebPage but this time let's use the CSS Seletor\n",
    "#Like Xpath, Chrome can also generate the CSS Selector for us"
   ]
  },
  {
   "cell_type": "markdown",
   "metadata": {},
   "source": [
    "__Name Information__"
   ]
  },
  {
   "cell_type": "code",
   "execution_count": 56,
   "metadata": {},
   "outputs": [],
   "source": [
    "## example css selector\n",
    "## #hdrTitle"
   ]
  },
  {
   "cell_type": "markdown",
   "metadata": {},
   "source": [
    "![Search Results](css_tutorial/css_tu_get_name.png)"
   ]
  },
  {
   "cell_type": "markdown",
   "metadata": {},
   "source": [
    "__Title Information__"
   ]
  },
  {
   "cell_type": "code",
   "execution_count": 57,
   "metadata": {},
   "outputs": [],
   "source": [
    "## example css selector\n",
    "## .block-profile-img h3"
   ]
  },
  {
   "cell_type": "markdown",
   "metadata": {},
   "source": [
    "![Search Results](css_tutorial/css_tu_get_title.png)"
   ]
  },
  {
   "cell_type": "markdown",
   "metadata": {},
   "source": [
    "__Email Information__"
   ]
  },
  {
   "cell_type": "code",
   "execution_count": 58,
   "metadata": {},
   "outputs": [],
   "source": [
    "## example css selector\n",
    "## .icon--email a"
   ]
  },
  {
   "cell_type": "markdown",
   "metadata": {},
   "source": [
    "![Search Results](css_tutorial/css_tu_get_email.png)"
   ]
  },
  {
   "cell_type": "code",
   "execution_count": 59,
   "metadata": {},
   "outputs": [],
   "source": [
    "# Use the CSS selector can only query the element or locate the element\n",
    "\n",
    "# The reason why we use CSS Seletor, simply because the TagUI can only use the upload function will the CSS Selector"
   ]
  },
  {
   "cell_type": "markdown",
   "metadata": {},
   "source": [
    "<div class=\"alert alert-danger alertdanger\" style=\"margin-top: 20px\">\n",
    "    <h1>\n",
    "         Exercise 3\n",
    "    </h1>\n",
    "    <p>\n",
    "        Find and download three similar images using the Bing Image Search with the provide image file \n",
    "    </p>\n",
    "        <p>\n",
    "        <b>Check TagUI-Python functions on TagUI-Python(<a href=\"https://github.com/tebelorg/RPA-Python\">https://github.com/tebelorg/RPA-Python</a>) </b>\n",
    "    </p>\n",
    "</div>"
   ]
  },
  {
   "cell_type": "code",
   "execution_count": null,
   "metadata": {},
   "outputs": [],
   "source": [
    "# Write your code from here:\n"
   ]
  },
  {
   "cell_type": "markdown",
   "metadata": {},
   "source": [
    "---"
   ]
  },
  {
   "cell_type": "code",
   "execution_count": null,
   "metadata": {},
   "outputs": [],
   "source": [
    "# Or use below 'filling the blank' coding template:"
   ]
  },
  {
   "cell_type": "code",
   "execution_count": 62,
   "metadata": {},
   "outputs": [],
   "source": [
    "import tagui as t"
   ]
  },
  {
   "cell_type": "code",
   "execution_count": 63,
   "metadata": {
    "scrolled": false
   },
   "outputs": [
    {
     "name": "stdout",
     "output_type": "stream",
     "text": [
      "[TAGUI][ERROR] - use init() before using close()\n"
     ]
    },
    {
     "data": {
      "text/plain": [
       "False"
      ]
     },
     "execution_count": 63,
     "metadata": {},
     "output_type": "execute_result"
    }
   ],
   "source": [
    "t.close()"
   ]
  },
  {
   "cell_type": "code",
   "execution_count": 78,
   "metadata": {
    "scrolled": false
   },
   "outputs": [
    {
     "data": {
      "text/markdown": [
       "![Source Image](exercise_3/sample.jpg)"
      ],
      "text/plain": [
       "<IPython.core.display.Markdown object>"
      ]
     },
     "metadata": {},
     "output_type": "display_data"
    }
   ],
   "source": [
    "target_image = 'exercise_3/sample.jpg'\n",
    "display(Markdown('![Source Image](exercise_3/sample.jpg)'))"
   ]
  },
  {
   "cell_type": "code",
   "execution_count": null,
   "metadata": {},
   "outputs": [],
   "source": [
    "t.init()\n",
    "t.url('https://www.bing.com/?scope=images&nr=1&FORM=NOFORM')\n",
    "t.click('###your code/xpath here: for image search button###')\n",
    "t.???(\"input.fileinput\",target_image)\n",
    "t.wait(3)\n",
    "t.click('###your code/xpath here: for similar images###')\n",
    "image_nums = t.count('//a[@class=\"richImgLnk\"]')\n",
    "limitation = 3\n",
    "for i in range(1,image_nums):\n",
    "    if i <= 3:\n",
    "        url = 'https://www.bing.com'+ t.read(f'###your code/xpath here: for each/indexed similar image###')\n",
    "        t.???(url,'exercise_3/' + 'similar_'+str(i)+'.png')\n",
    "t.close()"
   ]
  },
  {
   "cell_type": "code",
   "execution_count": 76,
   "metadata": {},
   "outputs": [
    {
     "data": {
      "text/markdown": [
       "![Similar](exercise_3/similar_1.png)"
      ],
      "text/plain": [
       "<IPython.core.display.Markdown object>"
      ]
     },
     "metadata": {},
     "output_type": "display_data"
    },
    {
     "data": {
      "text/markdown": [
       "![Similar](exercise_3/similar_2.png)"
      ],
      "text/plain": [
       "<IPython.core.display.Markdown object>"
      ]
     },
     "metadata": {},
     "output_type": "display_data"
    },
    {
     "data": {
      "text/markdown": [
       "![Similar](exercise_3/similar_3.png)"
      ],
      "text/plain": [
       "<IPython.core.display.Markdown object>"
      ]
     },
     "metadata": {},
     "output_type": "display_data"
    }
   ],
   "source": [
    "display(Markdown('![Similar](exercise_3/similar_1.png)'))\n",
    "display(Markdown('![Similar](exercise_3/similar_2.png)'))\n",
    "display(Markdown('![Similar](exercise_3/similar_3.png)'))"
   ]
  },
  {
   "cell_type": "code",
   "execution_count": 61,
   "metadata": {},
   "outputs": [],
   "source": [
    "# Uncommnet below, then press Shift+Enter for solution\n",
    "# codehelper.hint_for_exercise_three()"
   ]
  },
  {
   "cell_type": "markdown",
   "metadata": {},
   "source": [
    "<div class=\"alert alert-info alertdanger\" style=\"margin-top: 20px\">\n",
    "    <h1>\n",
    "         Some tips about TagUI and Xpath\n",
    "    </h1>\n",
    "</div>"
   ]
  },
  {
   "cell_type": "markdown",
   "metadata": {},
   "source": [
    "1. TagUI-Python only a library to call the TagUI Command-Line.For the first time using, t.init() will download TagUI Command-Line into ~/.tagui/.\n",
    "\n",
    "2. If you want to use TagUI in your work or project, the pain point is the environmnet preparation for TagUI\n",
    "\n",
    "3. Please be familiar with Xpath and CSS Selector"
   ]
  },
  {
   "cell_type": "markdown",
   "metadata": {},
   "source": [
    "<div class=\"alert alert-info alertdanger\" style=\"margin-top: 20px\">\n",
    "    <h1>\n",
    "         End of Workshop\n",
    "    </h1>\n",
    "</div>"
   ]
  },
  {
   "cell_type": "markdown",
   "metadata": {},
   "source": [
    "---"
   ]
  }
 ],
 "metadata": {
  "kernelspec": {
   "display_name": "Python 3",
   "language": "python",
   "name": "python3"
  },
  "language_info": {
   "codemirror_mode": {
    "name": "ipython",
    "version": 3
   },
   "file_extension": ".py",
   "mimetype": "text/x-python",
   "name": "python",
   "nbconvert_exporter": "python",
   "pygments_lexer": "ipython3",
   "version": "3.7.4"
  }
 },
 "nbformat": 4,
 "nbformat_minor": 2
}
